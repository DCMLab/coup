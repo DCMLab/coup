{
 "cells": [
  {
   "cell_type": "code",
   "execution_count": 1,
   "metadata": {
    "ExecuteTime": {
     "end_time": "2023-08-30T07:02:59.407045800Z",
     "start_time": "2023-08-30T07:02:53.754249800Z"
    }
   },
   "outputs": [
    {
     "ename": "NameError",
     "evalue": "name 'k' is not defined",
     "output_type": "error",
     "traceback": [
      "\u001b[1;31m---------------------------------------------------------------------------\u001b[0m",
      "\u001b[1;31mNameError\u001b[0m                                 Traceback (most recent call last)",
      "Cell \u001b[1;32mIn[1], line 6\u001b[0m\n\u001b[0;32m      4\u001b[0m \u001b[38;5;28;01mfrom\u001b[39;00m \u001b[38;5;21;01mcollections\u001b[39;00m \u001b[38;5;28;01mimport\u001b[39;00m Counter\n\u001b[0;32m      5\u001b[0m \u001b[38;5;28;01mimport\u001b[39;00m \u001b[38;5;21;01mpandas\u001b[39;00m \u001b[38;5;28;01mas\u001b[39;00m \u001b[38;5;21;01mpd\u001b[39;00m\n\u001b[1;32m----> 6\u001b[0m \u001b[38;5;28;01mfrom\u001b[39;00m \u001b[38;5;21;01mhelpers\u001b[39;00m \u001b[38;5;28;01mimport\u001b[39;00m grams, plot_cum, sorted_gram_counts, transition_matrix, STD_LAYOUT\n\u001b[0;32m      7\u001b[0m \u001b[38;5;28;01mimport\u001b[39;00m \u001b[38;5;21;01mms3\u001b[39;00m\n\u001b[0;32m      8\u001b[0m pd\u001b[38;5;241m.\u001b[39mset_option(\u001b[38;5;124m'\u001b[39m\u001b[38;5;124mdisplay.max_rows\u001b[39m\u001b[38;5;124m'\u001b[39m, \u001b[38;5;241m1000\u001b[39m)\n",
      "File \u001b[1;32m~\\coup\\notebooks\\helpers.py:429\u001b[0m\n\u001b[0;32m    425\u001b[0m     df[\u001b[38;5;124m\"\u001b[39m\u001b[38;5;124m%\u001b[39m\u001b[38;5;124m\"\u001b[39m] \u001b[38;5;241m=\u001b[39m (df[\u001b[38;5;124m'\u001b[39m\u001b[38;5;124mcount\u001b[39m\u001b[38;5;124m'\u001b[39m] \u001b[38;5;241m*\u001b[39m \u001b[38;5;241m100\u001b[39m \u001b[38;5;241m/\u001b[39m N)\u001b[38;5;241m.\u001b[39mround(\u001b[38;5;241m2\u001b[39m)\n\u001b[0;32m    426\u001b[0m     \u001b[38;5;28;01mreturn\u001b[39;00m df\n\u001b[1;32m--> 429\u001b[0m \u001b[38;5;28;01mdef\u001b[39;00m \u001b[38;5;21msorted_gram_counts\u001b[39m(l, n\u001b[38;5;241m=\u001b[39m\u001b[38;5;241m2\u001b[39m, k\u001b[38;5;241m=\u001b[39m\u001b[43mk\u001b[49m):\n\u001b[0;32m    430\u001b[0m     \u001b[38;5;28;01mreturn\u001b[39;00m prettify_counts(Counter({t: count \u001b[38;5;28;01mfor\u001b[39;00m t, count \u001b[38;5;129;01min\u001b[39;00m \u001b[38;5;28msorted\u001b[39m(Counter(grams(l, n\u001b[38;5;241m=\u001b[39mn))\u001b[38;5;241m.\u001b[39mitems(), key\u001b[38;5;241m=\u001b[39m\u001b[38;5;28;01mlambda\u001b[39;00m a: a[\u001b[38;5;241m1\u001b[39m], reverse\u001b[38;5;241m=\u001b[39m\u001b[38;5;28;01mTrue\u001b[39;00m)[:k]}))\n",
      "\u001b[1;31mNameError\u001b[0m: name 'k' is not defined"
     ]
    }
   ],
   "source": [
    "%load_ext autoreload\n",
    "%autoreload 2\n",
    "import os\n",
    "from collections import Counter\n",
    "import pandas as pd\n",
    "from helpers import grams, plot_cum, sorted_gram_counts, transition_matrix, STD_LAYOUT\n",
    "import ms3\n",
    "pd.set_option('display.max_rows', 1000)\n",
    "pd.set_option('display.max_columns', 500)"
   ]
  },
  {
   "cell_type": "code",
   "execution_count": null,
   "metadata": {
    "ExecuteTime": {
     "end_time": "2023-08-30T07:02:59.427914400Z",
     "start_time": "2023-08-30T07:02:59.424932300Z"
    },
    "collapsed": false,
    "jupyter": {
     "outputs_hidden": false
    }
   },
   "outputs": [],
   "source": [
    "CORPUS_PATH = \"~/all_subcorpora/couperin_concerts\"\n",
    "RESULTS_PATH = os.path.join('..', 'results')"
   ]
  },
  {
   "cell_type": "code",
   "execution_count": null,
   "metadata": {
    "ExecuteTime": {
     "end_time": "2023-08-30T07:02:59.501444Z",
     "start_time": "2023-08-30T07:02:59.439837100Z"
    },
    "scrolled": true
   },
   "outputs": [],
   "source": [
    "corpus_obj = ms3.Corpus(CORPUS_PATH)\n",
    "corpus_obj.view.include('facet', \"expanded\")\n",
    "corpus_obj.parse_tsv()\n",
    "corpus_obj"
   ]
  },
  {
   "cell_type": "code",
   "execution_count": null,
   "metadata": {
    "ExecuteTime": {
     "start_time": "2023-08-30T07:02:59.441834500Z"
    }
   },
   "outputs": [],
   "source": [
    "df = corpus_obj.expanded()\n",
    "df['key_regions'] = df.groupby(level=0, group_keys=False).localkey.apply(lambda col: col != col.shift()).cumsum()\n",
    "df.head(20)"
   ]
  },
  {
   "cell_type": "markdown",
   "metadata": {},
   "source": [
    "# Unigrams"
   ]
  },
  {
   "cell_type": "code",
   "execution_count": null,
   "metadata": {
    "ExecuteTime": {
     "start_time": "2023-08-30T07:02:59.442816900Z"
    },
    "scrolled": true
   },
   "outputs": [],
   "source": [
    "k = 25\n",
    "df.chord.value_counts().iloc[:k]"
   ]
  },
  {
   "cell_type": "code",
   "execution_count": null,
   "metadata": {
    "ExecuteTime": {
     "start_time": "2023-08-30T07:02:59.452753Z"
    }
   },
   "outputs": [],
   "source": [
    "font_dict = {'font': {'size': 20}}\n",
    "H_LAYOUT = STD_LAYOUT.copy()\n",
    "H_LAYOUT.update({'legend': dict({'orientation': 'h', 'itemsizing':'constant', 'x': -0.05}, **font_dict)})"
   ]
  },
  {
   "cell_type": "code",
   "execution_count": null,
   "metadata": {
    "ExecuteTime": {
     "start_time": "2023-08-30T07:02:59.454741500Z"
    }
   },
   "outputs": [],
   "source": [
    "fig = plot_cum(df.chord, x_log=True, markersize=4, left_range=(-0.03, 3.7), right_range=(-0.01,1.11), **H_LAYOUT)\n",
    "fig.write_image(os.path.join(RESULTS_PATH, 'type_distribution.png'))\n",
    "fig"
   ]
  },
  {
   "cell_type": "markdown",
   "metadata": {},
   "source": [
    "## Unigrams in major segments"
   ]
  },
  {
   "cell_type": "code",
   "execution_count": null,
   "metadata": {
    "ExecuteTime": {
     "start_time": "2023-08-30T07:02:59.460702300Z"
    }
   },
   "outputs": [],
   "source": [
    "minor, major = df[df.localkey_is_minor], df[~df.localkey_is_minor]\n",
    "print(f\"{len(major)} tokens ({len(major.chord.unique())} types) in major and {len(minor)} ({len(minor.chord.unique())} types) in minor.\")"
   ]
  },
  {
   "cell_type": "code",
   "execution_count": null,
   "metadata": {
    "ExecuteTime": {
     "start_time": "2023-08-30T07:02:59.467660500Z"
    }
   },
   "outputs": [],
   "source": [
    "major.chord.value_counts().iloc[:k]"
   ]
  },
  {
   "cell_type": "code",
   "execution_count": null,
   "metadata": {
    "ExecuteTime": {
     "start_time": "2023-08-30T07:02:59.473619800Z"
    }
   },
   "outputs": [],
   "source": [
    "fig = plot_cum(major.chord, x_log=True, markersize=4, left_range=(-0.03, 3.7), right_range=(-0.01,1.11), **H_LAYOUT)\n",
    "fig.write_image(os.path.join(RESULTS_PATH, 'unigrams_major.png'))\n",
    "fig.show()"
   ]
  },
  {
   "cell_type": "markdown",
   "metadata": {},
   "source": [
    "## Unigrams in minor segments"
   ]
  },
  {
   "cell_type": "code",
   "execution_count": null,
   "metadata": {
    "ExecuteTime": {
     "start_time": "2023-08-30T07:02:59.483557400Z"
    }
   },
   "outputs": [],
   "source": [
    "print(f\"{len(major)} tokens ({len(major.chord.unique())} types) in major and {len(minor)} ({len(minor.chord.unique())} types) in minor.\")"
   ]
  },
  {
   "cell_type": "code",
   "execution_count": null,
   "metadata": {
    "ExecuteTime": {
     "start_time": "2023-08-30T07:02:59.493492200Z"
    }
   },
   "outputs": [],
   "source": [
    "minor.chord.value_counts().iloc[:k]"
   ]
  },
  {
   "cell_type": "code",
   "execution_count": null,
   "metadata": {
    "ExecuteTime": {
     "end_time": "2023-08-30T07:02:59.752831600Z",
     "start_time": "2023-08-30T07:02:59.509390500Z"
    }
   },
   "outputs": [],
   "source": [
    "fig = plot_cum(minor.chord, x_log=True, markersize=4, left_range=(-0.03, 3.7), right_range=(-0.01,1.11), **H_LAYOUT)\n",
    "fig.write_image(os.path.join(RESULTS_PATH, 'unigrams_minor.png'))\n",
    "fig.show()"
   ]
  },
  {
   "cell_type": "markdown",
   "metadata": {},
   "source": [
    "# Bigrams"
   ]
  },
  {
   "cell_type": "code",
   "execution_count": null,
   "metadata": {
    "ExecuteTime": {
     "start_time": "2023-08-30T07:02:59.520320700Z"
    }
   },
   "outputs": [],
   "source": [
    "chord_successions = [s.to_list() for _, s in df.groupby('key_regions').chord]"
   ]
  },
  {
   "cell_type": "code",
   "execution_count": null,
   "metadata": {
    "ExecuteTime": {
     "start_time": "2023-08-30T07:02:59.529266500Z"
    }
   },
   "outputs": [],
   "source": [
    "gs = grams(chord_successions)\n",
    "c = Counter(gs)"
   ]
  },
  {
   "cell_type": "code",
   "execution_count": null,
   "metadata": {
    "ExecuteTime": {
     "start_time": "2023-08-30T07:02:59.540193600Z"
    },
    "scrolled": true
   },
   "outputs": [],
   "source": [
    "dict(sorted(c.items(), key=lambda a: a[1], reverse=True)[:k])"
   ]
  },
  {
   "cell_type": "markdown",
   "metadata": {},
   "source": [
    "## Absolute Counts (read from index to column)"
   ]
  },
  {
   "cell_type": "code",
   "execution_count": null,
   "metadata": {
    "ExecuteTime": {
     "start_time": "2023-08-30T07:02:59.550133500Z"
    }
   },
   "outputs": [],
   "source": [
    "transition_matrix(chord_successions, k=k, dist_only=True)"
   ]
  },
  {
   "cell_type": "markdown",
   "metadata": {},
   "source": [
    "## Normalized Counts"
   ]
  },
  {
   "cell_type": "code",
   "execution_count": null,
   "metadata": {
    "ExecuteTime": {
     "start_time": "2023-08-30T07:02:59.552117900Z"
    }
   },
   "outputs": [],
   "source": [
    "transition_matrix(chord_successions, k=k, dist_only=True, normalize=True, decimals=2)"
   ]
  },
  {
   "cell_type": "markdown",
   "metadata": {},
   "source": [
    "## Entropy"
   ]
  },
  {
   "cell_type": "code",
   "execution_count": null,
   "metadata": {
    "ExecuteTime": {
     "start_time": "2023-08-30T07:02:59.577952700Z"
    }
   },
   "outputs": [],
   "source": [
    "transition_matrix(chord_successions, k=k, IC=True, dist_only=True, smooth=1, decimals=2)"
   ]
  },
  {
   "cell_type": "markdown",
   "metadata": {},
   "source": [
    "## Minor vs. Major"
   ]
  },
  {
   "cell_type": "code",
   "execution_count": null,
   "metadata": {
    "ExecuteTime": {
     "start_time": "2023-08-30T07:02:59.609747600Z"
    }
   },
   "outputs": [],
   "source": [
    "region_is_minor = df.groupby('key_regions').localkey_is_minor.unique().map(lambda l: l[0]).to_dict()\n",
    "region_key = df.groupby('key_regions').localkey.unique().map(lambda l: l[0]).to_dict()"
   ]
  },
  {
   "cell_type": "code",
   "execution_count": null,
   "metadata": {
    "ExecuteTime": {
     "start_time": "2023-08-30T07:02:59.624653Z"
    }
   },
   "outputs": [],
   "source": [
    "key_chords = {ix: s.to_list() for ix, s in df.reset_index().groupby(['piece', 'key_regions']).chord}\n",
    "major, minor = [], []\n",
    "for chords, is_minor in zip(key_chords.values(), region_is_minor.values()):\n",
    "    (major, minor)[is_minor].append(chords)"
   ]
  },
  {
   "cell_type": "code",
   "execution_count": null,
   "metadata": {
    "ExecuteTime": {
     "start_time": "2023-08-30T07:02:59.700169200Z"
    }
   },
   "outputs": [],
   "source": [
    "transition_matrix(major, k=k, dist_only=True, normalize=True)"
   ]
  },
  {
   "cell_type": "code",
   "execution_count": null,
   "metadata": {
    "ExecuteTime": {
     "start_time": "2023-08-30T07:02:59.705136800Z"
    }
   },
   "outputs": [],
   "source": [
    "transition_matrix(minor, k=k, dist_only=True, normalize=True)"
   ]
  },
  {
   "cell_type": "markdown",
   "metadata": {},
   "source": [
    "## Chord progressions without suspensions\n",
    "\n",
    "Here called *plain chords*, which consist only of numeral, inversion figures, and relative keys."
   ]
  },
  {
   "cell_type": "code",
   "execution_count": null,
   "metadata": {
    "ExecuteTime": {
     "start_time": "2023-08-30T07:02:59.724015600Z"
    }
   },
   "outputs": [],
   "source": [
    "df['plain_chords'] = df.numeral + df.figbass.fillna('') + ('/' + df.relativeroot).fillna('')"
   ]
  },
  {
   "cell_type": "code",
   "execution_count": null,
   "metadata": {
    "ExecuteTime": {
     "start_time": "2023-08-30T07:02:59.725009500Z"
    },
    "scrolled": true
   },
   "outputs": [],
   "source": [
    "df.plain_chords.iloc[:k]"
   ]
  },
  {
   "cell_type": "markdown",
   "metadata": {},
   "source": [
    "**Consecutive identical labels are merged**"
   ]
  },
  {
   "cell_type": "code",
   "execution_count": null,
   "metadata": {
    "ExecuteTime": {
     "start_time": "2023-08-30T07:02:59.731965300Z"
    }
   },
   "outputs": [],
   "source": [
    "def remove_subsequent_identical(col):\n",
    "    return col[col != col.shift()].to_list()\n",
    "key_regions_plain_chords = (df.reset_index().groupby(['piece', 'key_regions']).plain_chords.apply\n",
    "                            (remove_subsequent_identical))\n",
    "key_plain_chords = {ix: s for ix, s in key_regions_plain_chords.items()}\n",
    "major_plain, minor_plain = [], []\n",
    "for chords, is_minor in zip(key_plain_chords.values(), region_is_minor.values()):\n",
    "    (major_plain, minor_plain)[is_minor].append(chords)"
   ]
  },
  {
   "cell_type": "code",
   "execution_count": null,
   "metadata": {
    "ExecuteTime": {
     "start_time": "2023-08-30T07:02:59.738920400Z"
    },
    "scrolled": true
   },
   "outputs": [],
   "source": [
    "plain_chords_per_segment = {k: len(v) for k, v in key_plain_chords.items()}"
   ]
  },
  {
   "cell_type": "code",
   "execution_count": null,
   "metadata": {
    "ExecuteTime": {
     "start_time": "2023-08-30T07:02:59.748857400Z"
    }
   },
   "outputs": [],
   "source": [
    "print(f\"The local key segments have {sum(plain_chords_per_segment.values())} 'plain chords' without immediate repetitions, \\\n",
    "yielding {len(grams(list(key_plain_chords.values())))} bigrams.\\n{sum(map(len, major_plain))} chords are in major, {sum(map(len, minor_plain))} in minor.\")"
   ]
  },
  {
   "cell_type": "code",
   "execution_count": null,
   "metadata": {
    "ExecuteTime": {
     "end_time": "2023-08-30T07:02:59.992968900Z",
     "start_time": "2023-08-30T07:02:59.756805Z"
    }
   },
   "outputs": [],
   "source": [
    "{segment: chord_count  for segment, chord_count in list({(piece, region_key[key] + (' minor' if region_is_minor[key] else ' major')): v for (piece, key), v in plain_chords_per_segment.items()}.items())[:k]}"
   ]
  },
  {
   "cell_type": "code",
   "execution_count": null,
   "metadata": {
    "ExecuteTime": {
     "start_time": "2023-08-30T07:02:59.767737500Z"
    }
   },
   "outputs": [],
   "source": [
    "from statistics import mean\n",
    "print(f\"Segments being in the same local key have a mean length of {round(mean(plain_chords_per_segment.values()), 2)} plain chords.\")"
   ]
  },
  {
   "cell_type": "markdown",
   "metadata": {},
   "source": [
    "### Most frequent 3-, 4-, and 5-grams in major"
   ]
  },
  {
   "cell_type": "code",
   "execution_count": null,
   "metadata": {
    "ExecuteTime": {
     "start_time": "2023-08-30T07:02:59.775685600Z"
    },
    "scrolled": true
   },
   "outputs": [],
   "source": [
    "sorted_gram_counts(major_plain, 3)"
   ]
  },
  {
   "cell_type": "code",
   "execution_count": null,
   "metadata": {
    "ExecuteTime": {
     "start_time": "2023-08-30T07:02:59.786615500Z"
    },
    "scrolled": true
   },
   "outputs": [],
   "source": [
    "sorted_gram_counts(major_plain, 4)"
   ]
  },
  {
   "cell_type": "code",
   "execution_count": null,
   "metadata": {
    "ExecuteTime": {
     "start_time": "2023-08-30T07:02:59.796557200Z"
    },
    "scrolled": true
   },
   "outputs": [],
   "source": [
    "sorted_gram_counts(major_plain, 5)"
   ]
  },
  {
   "cell_type": "markdown",
   "metadata": {},
   "source": [
    "### Most frequent 3-, 4-, and 5-grams in minor"
   ]
  },
  {
   "cell_type": "code",
   "execution_count": null,
   "metadata": {
    "ExecuteTime": {
     "start_time": "2023-08-30T07:02:59.808475500Z"
    },
    "scrolled": true
   },
   "outputs": [],
   "source": [
    "sorted_gram_counts(minor_plain, 3)"
   ]
  },
  {
   "cell_type": "code",
   "execution_count": null,
   "metadata": {
    "ExecuteTime": {
     "start_time": "2023-08-30T07:02:59.823380600Z"
    },
    "scrolled": true
   },
   "outputs": [],
   "source": [
    "sorted_gram_counts(minor_plain, 4)"
   ]
  },
  {
   "cell_type": "code",
   "execution_count": null,
   "metadata": {
    "ExecuteTime": {
     "start_time": "2023-08-30T07:02:59.839277800Z"
    },
    "scrolled": true
   },
   "outputs": [],
   "source": [
    "sorted_gram_counts(minor_plain, 5)"
   ]
  },
  {
   "cell_type": "markdown",
   "metadata": {},
   "source": [
    "## Counting particular progressions"
   ]
  },
  {
   "cell_type": "code",
   "execution_count": null,
   "metadata": {
    "ExecuteTime": {
     "start_time": "2023-08-30T07:02:59.849215100Z"
    }
   },
   "outputs": [],
   "source": [
    "MEMORY = {}\n",
    "l = list(key_plain_chords.values())\n",
    "def look_for(n_gram):\n",
    "    n = len(n_gram)\n",
    "    if n in MEMORY:\n",
    "        n_grams = MEMORY[n]\n",
    "    else:\n",
    "        n_grams = grams(l, n)\n",
    "        MEMORY[n] = n_grams\n",
    "    matches = n_grams.count(n_gram)\n",
    "    total = len(n_grams)\n",
    "    return f\"{matches} ({round(100*matches/total, 3)} %)\""
   ]
  },
  {
   "cell_type": "code",
   "execution_count": null,
   "metadata": {
    "ExecuteTime": {
     "start_time": "2023-08-30T07:02:59.854183300Z"
    }
   },
   "outputs": [],
   "source": [
    "look_for(('i', 'v6'))"
   ]
  },
  {
   "cell_type": "code",
   "execution_count": null,
   "metadata": {
    "ExecuteTime": {
     "start_time": "2023-08-30T07:02:59.859150500Z"
    }
   },
   "outputs": [],
   "source": [
    "look_for(('i', 'v6', 'iv6'))"
   ]
  },
  {
   "cell_type": "code",
   "execution_count": null,
   "metadata": {
    "ExecuteTime": {
     "start_time": "2023-08-30T07:02:59.871074500Z"
    }
   },
   "outputs": [],
   "source": [
    "look_for(('i', 'v6', 'iv6', 'V'))"
   ]
  },
  {
   "cell_type": "code",
   "execution_count": null,
   "metadata": {
    "ExecuteTime": {
     "start_time": "2023-08-30T07:02:59.876051200Z"
    }
   },
   "outputs": [],
   "source": [
    "look_for(('i', 'V6', 'v6'))"
   ]
  },
  {
   "cell_type": "code",
   "execution_count": null,
   "metadata": {
    "ExecuteTime": {
     "start_time": "2023-08-30T07:02:59.887965400Z"
    }
   },
   "outputs": [],
   "source": [
    "look_for(('V', 'IV6', 'V65'))"
   ]
  },
  {
   "cell_type": "markdown",
   "metadata": {},
   "source": [
    "## Chord progressions preceding phrase endings"
   ]
  },
  {
   "cell_type": "code",
   "execution_count": null,
   "metadata": {
    "ExecuteTime": {
     "start_time": "2023-08-30T07:02:59.901877100Z"
    },
    "scrolled": true
   },
   "outputs": [],
   "source": [
    "def phraseending_progressions(df, n=3, k=k):\n",
    "    selector = (df.groupby(level=0, group_keys=False).phraseend.apply(lambda col: col.notna().shift().fillna(True))\n",
    "                .cumsum())\n",
    "    print(f\"{selector.max()} phrases overall.\")\n",
    "    phraseends = df.groupby(selector).apply(lambda df: df.chord.iloc[-n:].reset_index(drop=True)).unstack()\n",
    "    return phraseends.groupby(phraseends.columns.to_list()).size().sort_values(ascending=False).iloc[:k]"
   ]
  },
  {
   "cell_type": "code",
   "execution_count": null,
   "metadata": {
    "ExecuteTime": {
     "start_time": "2023-08-30T07:02:59.907838800Z"
    },
    "scrolled": true
   },
   "outputs": [],
   "source": [
    "phraseending_progressions(df)"
   ]
  },
  {
   "cell_type": "code",
   "execution_count": null,
   "metadata": {
    "ExecuteTime": {
     "start_time": "2023-08-30T07:02:59.924730300Z"
    },
    "scrolled": true
   },
   "outputs": [],
   "source": [
    "phraseending_progressions(df, 4)"
   ]
  },
  {
   "cell_type": "code",
   "execution_count": null,
   "metadata": {
    "ExecuteTime": {
     "start_time": "2023-08-30T07:02:59.952817Z"
    }
   },
   "outputs": [],
   "source": []
  }
 ],
 "metadata": {
  "@webio": {
   "lastCommId": null,
   "lastKernelId": null
  },
  "jupytext": {
   "formats": "ipynb,md:myst"
  },
  "kernelspec": {
   "display_name": "coup",
   "language": "python",
   "name": "coup"
  },
  "language_info": {
   "codemirror_mode": {
    "name": "ipython",
    "version": 3
   },
   "file_extension": ".py",
   "mimetype": "text/x-python",
   "name": "python",
   "nbconvert_exporter": "python",
   "pygments_lexer": "ipython3",
   "version": "3.10.12"
  },
  "toc": {
   "base_numbering": 1,
   "nav_menu": {},
   "number_sections": true,
   "sideBar": true,
   "skip_h1_title": true,
   "title_cell": "Table of Contents",
   "title_sidebar": "Contents",
   "toc_cell": true,
   "toc_position": {},
   "toc_section_display": true,
   "toc_window_display": true
  }
 },
 "nbformat": 4,
 "nbformat_minor": 4
}
